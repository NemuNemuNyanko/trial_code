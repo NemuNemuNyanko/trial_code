{
 "cells": [
  {
   "cell_type": "code",
   "execution_count": 1,
   "metadata": {},
   "outputs": [
    {
     "ename": "NameError",
     "evalue": "name 'train_X' is not defined",
     "output_type": "error",
     "traceback": [
      "\u001b[1;31m---------------------------------------------------------------------------\u001b[0m",
      "\u001b[1;31mNameError\u001b[0m                                 Traceback (most recent call last)",
      "\u001b[1;32mc:\\Users\\4regi\\Desktop\\ML\\trial_code\\0926\\stacking.ipynb セル 1\u001b[0m line \u001b[0;36m1\n\u001b[0;32m      <a href='vscode-notebook-cell:/c%3A/Users/4regi/Desktop/ML/trial_code/0926/stacking.ipynb#W0sZmlsZQ%3D%3D?line=8'>9</a>\u001b[0m \u001b[39mfrom\u001b[39;00m \u001b[39msklearn\u001b[39;00m\u001b[39m.\u001b[39;00m\u001b[39mmetrics\u001b[39;00m \u001b[39mimport\u001b[39;00m mean_squared_error\n\u001b[0;32m     <a href='vscode-notebook-cell:/c%3A/Users/4regi/Desktop/ML/trial_code/0926/stacking.ipynb#W0sZmlsZQ%3D%3D?line=10'>11</a>\u001b[0m \u001b[39mimport\u001b[39;00m \u001b[39mlightgbm\u001b[39;00m \u001b[39mas\u001b[39;00m \u001b[39mlgb\u001b[39;00m\n\u001b[1;32m---> <a href='vscode-notebook-cell:/c%3A/Users/4regi/Desktop/ML/trial_code/0926/stacking.ipynb#W0sZmlsZQ%3D%3D?line=12'>13</a>\u001b[0m train_data \u001b[39m=\u001b[39m lgb\u001b[39m.\u001b[39mDataset(train_X, label\u001b[39m=\u001b[39mtrain_y)\n\u001b[0;32m     <a href='vscode-notebook-cell:/c%3A/Users/4regi/Desktop/ML/trial_code/0926/stacking.ipynb#W0sZmlsZQ%3D%3D?line=13'>14</a>\u001b[0m valid_data \u001b[39m=\u001b[39m lgb\u001b[39m.\u001b[39mDataset(valid_X, label\u001b[39m=\u001b[39mvalid_y, reference\u001b[39m=\u001b[39mtrain_data)\n",
      "\u001b[1;31mNameError\u001b[0m: name 'train_X' is not defined"
     ]
    }
   ],
   "source": [
    "import numpy as np\n",
    "import pandas as pd\n",
    "# データセット\n",
    "from sklearn.datasets import fetch_california_housing\n",
    "# 前処理\n",
    "from sklearn.model_selection import train_test_split\n",
    "from sklearn.preprocessing import StandardScaler\n",
    "# 評価\n",
    "from sklearn.metrics import mean_squared_error\n",
    "# モデル\n",
    "from sklearn.linear_model import LinearRegression\n",
    "from sklearn.ensemble import RandomForestRegressor\n",
    "from sklearn.ensemble import StackingRegressor\n",
    "\n",
    "# California Housingデータセットをロード\n",
    "data = fetch_california_housing()\n",
    "X = data.data\n",
    "X = X[:1000] # 学習時間を減らすために最初の1000個を使用\n",
    "y = data.target\n",
    "y = y[:1000]\n",
    "\n",
    "# データをトレーニングセットとテストセットに分割\n",
    "X_train, X_test, y_train, y_test = train_test_split(X, y, test_size=0.2, random_state=42)\n",
    "\n",
    "# データを標準化\n",
    "scaler = StandardScaler()\n",
    "X_train = scaler.fit_transform(X_train)\n",
    "X_test = scaler.transform(X_test)\n",
    "\n",
    "\n"
   ]
  },
  {
   "cell_type": "code",
   "execution_count": 2,
   "metadata": {},
   "outputs": [
    {
     "name": "stdout",
     "output_type": "stream",
     "text": [
      "lr Mean Squared Error: 0.21719614329273326\n",
      "rf Mean Squared Error: 0.12203659461475168\n",
      "Stacking Regressor Mean Squared Error: 0.12147353129770685\n"
     ]
    }
   ],
   "source": [
    "# ベースモデルを定義\n",
    "base_models = [\n",
    "    ('lr', LinearRegression()),\n",
    "    ('rf', RandomForestRegressor(n_estimators=100, random_state=42))\n",
    "]\n",
    "\n",
    "# スタッキングモデルを定義\n",
    "stacking_model = StackingRegressor(estimators=base_models, final_estimator=LinearRegression())\n",
    "\n",
    "# ベースモデルとスタッキングモデルをトレーニング\n",
    "for name, model in base_models:\n",
    "    model.fit(X_train, y_train)\n",
    "\n",
    "stacking_model.fit(X_train, y_train)\n",
    "\n",
    "# 各モデルの性能を評価\n",
    "for name, model in base_models:\n",
    "    y_pred = model.predict(X_test)\n",
    "    mse = mean_squared_error(y_test, y_pred)\n",
    "    print(f'{name} Mean Squared Error: {mse}')\n",
    "\n",
    "# スタッキングモデルの性能を評価\n",
    "y_pred_stacking = stacking_model.predict(X_test)\n",
    "mse_stacking = mean_squared_error(y_test, y_pred_stacking)\n",
    "print(f'Stacking Regressor Mean Squared Error: {mse_stacking}')"
   ]
  },
  {
   "cell_type": "code",
   "execution_count": 3,
   "metadata": {},
   "outputs": [
    {
     "ename": "AttributeError",
     "evalue": "'RandomForestRegressor' object has no attribute 'estimators'",
     "output_type": "error",
     "traceback": [
      "\u001b[1;31m---------------------------------------------------------------------------\u001b[0m",
      "\u001b[1;31mAttributeError\u001b[0m                            Traceback (most recent call last)",
      "\u001b[1;32mc:\\Users\\4regi\\Desktop\\ML\\trial_code\\0926\\stacking.ipynb セル 3\u001b[0m line \u001b[0;36m1\n\u001b[1;32m----> <a href='vscode-notebook-cell:/c%3A/Users/4regi/Desktop/ML/trial_code/0926/stacking.ipynb#W3sZmlsZQ%3D%3D?line=0'>1</a>\u001b[0m model\u001b[39m.\u001b[39;49mestimators\n",
      "\u001b[1;31mAttributeError\u001b[0m: 'RandomForestRegressor' object has no attribute 'estimators'"
     ]
    }
   ],
   "source": [
    "model.estimators"
   ]
  }
 ],
 "metadata": {
  "kernelspec": {
   "display_name": "base",
   "language": "python",
   "name": "python3"
  },
  "language_info": {
   "codemirror_mode": {
    "name": "ipython",
    "version": 3
   },
   "file_extension": ".py",
   "mimetype": "text/x-python",
   "name": "python",
   "nbconvert_exporter": "python",
   "pygments_lexer": "ipython3",
   "version": "3.9.7"
  },
  "orig_nbformat": 4
 },
 "nbformat": 4,
 "nbformat_minor": 2
}
