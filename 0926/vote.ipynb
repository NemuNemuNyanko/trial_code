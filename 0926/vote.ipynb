{
 "cells": [
  {
   "cell_type": "code",
   "execution_count": 1,
   "metadata": {},
   "outputs": [],
   "source": [
    "import numpy as np\n",
    "import pandas as pd\n",
    "# データセット\n",
    "from sklearn.datasets import fetch_california_housing\n",
    "# 前処理\n",
    "from sklearn.model_selection import train_test_split\n",
    "from sklearn.preprocessing import StandardScaler\n",
    "# 評価\n",
    "from sklearn.metrics import mean_squared_error\n",
    "# モデル\n",
    "from sklearn.ensemble import VotingRegressor\n",
    "from sklearn.linear_model import LinearRegression\n",
    "from sklearn.tree import DecisionTreeRegressor\n",
    "from sklearn.ensemble import RandomForestRegressor\n",
    "\n",
    "# California Housingデータセットをロード\n",
    "data = fetch_california_housing()\n",
    "X = data.data\n",
    "X = X[:1000] # 学習時間を減らすために最初の1000個を使用\n",
    "y = data.target\n",
    "y = y[:1000]\n",
    "\n",
    "# データをトレーニングセットとテストセットに分割\n",
    "X_train, X_test, y_train, y_test = train_test_split(X, y, test_size=0.2, random_state=42)\n",
    "\n",
    "# データを標準化\n",
    "scaler = StandardScaler()\n",
    "X_train = scaler.fit_transform(X_train)\n",
    "X_test = scaler.transform(X_test)\n",
    "\n",
    "\n"
   ]
  },
  {
   "cell_type": "code",
   "execution_count": 3,
   "metadata": {},
   "outputs": [
    {
     "name": "stdout",
     "output_type": "stream",
     "text": [
      "Mean Squared Error: 0.14172873130045802\n"
     ]
    }
   ],
   "source": [
    "linear_regressor = LinearRegression()\n",
    "tree_regressor = DecisionTreeRegressor()\n",
    "forest_regressor = RandomForestRegressor()\n",
    "\n",
    "model = VotingRegressor(estimators=[\n",
    "    ('linear', linear_regressor),\n",
    "    ('tree', tree_regressor),\n",
    "    ('forest', forest_regressor)\n",
    "])\n",
    "\n",
    "\n",
    "model.fit(X_train, y_train)\n",
    "\n",
    "y_pred = model.predict(X_test)\n",
    "mse = mean_squared_error(y_test, y_pred)\n",
    "print(f\"Mean Squared Error: {mse}\")"
   ]
  },
  {
   "cell_type": "code",
   "execution_count": 4,
   "metadata": {},
   "outputs": [
    {
     "data": {
      "text/plain": [
       "[('linear', LinearRegression()),\n",
       " ('tree', DecisionTreeRegressor()),\n",
       " ('forest', RandomForestRegressor())]"
      ]
     },
     "execution_count": 4,
     "metadata": {},
     "output_type": "execute_result"
    }
   ],
   "source": [
    "model.estimators"
   ]
  }
 ],
 "metadata": {
  "kernelspec": {
   "display_name": "base",
   "language": "python",
   "name": "python3"
  },
  "language_info": {
   "codemirror_mode": {
    "name": "ipython",
    "version": 3
   },
   "file_extension": ".py",
   "mimetype": "text/x-python",
   "name": "python",
   "nbconvert_exporter": "python",
   "pygments_lexer": "ipython3",
   "version": "3.9.7"
  },
  "orig_nbformat": 4
 },
 "nbformat": 4,
 "nbformat_minor": 2
}
